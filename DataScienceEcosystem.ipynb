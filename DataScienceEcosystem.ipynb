{
 "cells": [
  {
   "cell_type": "markdown",
   "id": "23434d3c-f686-4718-a68d-2bcad850030f",
   "metadata": {},
   "source": [
    "# H1 Data Science Tools and Ecosystem"
   ]
  },
  {
   "cell_type": "markdown",
   "id": "2880cd03-805c-4986-80b1-63810aae2cde",
   "metadata": {},
   "source": [
    "## H2 In this notebook, Data Science Tools and Ecosystem are summarized."
   ]
  },
  {
   "cell_type": "markdown",
   "id": "f16fb68d-3381-4669-9f99-509e9fe4938d",
   "metadata": {},
   "source": [
    "# Some of the popular languages that Data Scientists use are: \n",
    "1. Python\n",
    "2. SQL \n",
    "3. R\n"
   ]
  },
  {
   "cell_type": "markdown",
   "id": "af8dd5dc-3521-493a-acdf-beabd87c3309",
   "metadata": {},
   "source": [
    "# Some of the commonly used libraries used by Data Scientists include:\n",
    "1. Pandas\n",
    "2. Scikit-learn\n",
    "3. keras"
   ]
  },
  {
   "cell_type": "markdown",
   "id": "7321c3ed-e14f-491f-a338-4e41cdf7b7c9",
   "metadata": {},
   "source": [
    "\n",
    "\n",
    "| Data Science Tools |\n",
    "|--------------------|\n",
    "|Apache Spark|\n",
    "|Rstudio|\n",
    "|TensorFlow|"
   ]
  },
  {
   "cell_type": "markdown",
   "id": "5c71ee49-339f-44d8-ad62-b28eea058324",
   "metadata": {},
   "source": [
    "## H3 Below are a few examples of evaluating arithmetic expressions in Python\n"
   ]
  },
  {
   "cell_type": "code",
   "execution_count": 4,
   "id": "6ab64629-9a86-4e41-94e8-baf2888254bb",
   "metadata": {},
   "outputs": [
    {
     "data": {
      "text/plain": [
       "17"
      ]
     },
     "execution_count": 4,
     "metadata": {},
     "output_type": "execute_result"
    }
   ],
   "source": [
    "(3 * 4) + 5\n",
    "# This a simple arithmetic expression to mutiply then add integers"
   ]
  },
  {
   "cell_type": "code",
   "execution_count": 3,
   "id": "be114e85-e017-4397-888a-ed46d3d05049",
   "metadata": {},
   "outputs": [
    {
     "name": "stdout",
     "output_type": "stream",
     "text": [
      "3.3333333333333335\n"
     ]
    }
   ],
   "source": [
    "# This will convert 200 minutes to hours by diving by 60\n",
    "M = 200/60\n",
    "print(M)"
   ]
  },
  {
   "cell_type": "markdown",
   "id": "ab117028-c7c5-4e17-83e8-5cc2ec268a39",
   "metadata": {},
   "source": [
    "# ** Objectives:**\n",
    "- Pandas\n",
    "- Scikit-learn\n",
    "- keras"
   ]
  },
  {
   "cell_type": "markdown",
   "id": "dd02733c-123a-43fc-9615-a210d3123972",
   "metadata": {},
   "source": [
    "# H2 Author #\n",
    "Vansh Gupta"
   ]
  },
  {
   "cell_type": "code",
   "execution_count": null,
   "id": "b988cf27-bd7e-46a8-ae5a-dacee199c4b8",
   "metadata": {},
   "outputs": [],
   "source": []
  }
 ],
 "metadata": {
  "kernelspec": {
   "display_name": "Python 3 (ipykernel)",
   "language": "python",
   "name": "python3"
  },
  "language_info": {
   "codemirror_mode": {
    "name": "ipython",
    "version": 3
   },
   "file_extension": ".py",
   "mimetype": "text/x-python",
   "name": "python",
   "nbconvert_exporter": "python",
   "pygments_lexer": "ipython3",
   "version": "3.11.9"
  }
 },
 "nbformat": 4,
 "nbformat_minor": 5
}
